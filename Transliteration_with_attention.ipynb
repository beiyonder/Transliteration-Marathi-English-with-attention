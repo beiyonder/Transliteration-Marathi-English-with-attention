{
  "nbformat": 4,
  "nbformat_minor": 0,
  "metadata": {
    "colab": {
      "provenance": [],
      "gpuType": "V28"
    },
    "kernelspec": {
      "name": "python3",
      "display_name": "Python 3"
    },
    "language_info": {
      "name": "python"
    },
    "accelerator": "TPU"
  },
  "cells": [
    {
      "cell_type": "code",
      "execution_count": 4,
      "metadata": {
        "id": "VcFCqVJafpM6"
      },
      "outputs": [],
      "source": [
        "import pandas as pd\n",
        "from sklearn.model_selection import train_test_split\n",
        "import string\n",
        "from string import digits\n",
        "import re\n",
        "from sklearn.utils import shuffle\n",
        "from tensorflow.keras.preprocessing.sequence import pad_sequences\n",
        "from tensorflow.keras.layers import LSTM, Input, Dense,Embedding, Concatenate, TimeDistributed\n",
        "from tensorflow.keras.models import Model,load_model, model_from_json\n",
        "from tensorflow.keras.utils import plot_model\n",
        "from tensorflow.keras.preprocessing.text import one_hot, Tokenizer\n",
        "from tensorflow.keras.callbacks import EarlyStopping\n",
        "import pickle as pkl\n",
        "import numpy as np"
      ]
    },
    {
      "cell_type": "markdown",
      "source": [
        "# Pre-Processing and Transformation"
      ],
      "metadata": {
        "id": "XDUA0X--mawS"
      }
    },
    {
      "cell_type": "code",
      "source": [
        "with open('mar.txt','r') as f:\n",
        "  data = f.read()"
      ],
      "metadata": {
        "id": "0HFpfCWKhoDi"
      },
      "execution_count": 5,
      "outputs": []
    },
    {
      "cell_type": "code",
      "source": [
        "uncleaned_data_list = data.split('\\n')\n",
        "len(uncleaned_data_list)\n",
        "uncleaned_data_list = uncleaned_data_list[:38695]\n",
        "len(uncleaned_data_list)\n",
        "english_word = []\n",
        "marathi_word = []\n",
        "cleaned_data_list = []\n",
        "for word in uncleaned_data_list:\n",
        "  english_word.append(word.split('\\t')[:-1][0])\n",
        "  marathi_word.append(word.split('\\t')[:-1][1])\n",
        "language_data = pd.DataFrame(columns=['English','Marathi'])\n",
        "language_data['English'] = english_word\n",
        "language_data['Marathi'] = marathi_word\n",
        "language_data.to_csv('language_data.csv', index=False)"
      ],
      "metadata": {
        "id": "CZibonsdmQmi"
      },
      "execution_count": 6,
      "outputs": []
    },
    {
      "cell_type": "code",
      "source": [
        "english_text = language_data['English'].values\n",
        "marathi_text = language_data['Marathi'].values\n",
        "len(english_text), len(marathi_text)"
      ],
      "metadata": {
        "colab": {
          "base_uri": "https://localhost:8080/"
        },
        "id": "didhdI2wmVrK",
        "outputId": "7a1dcc13-1cd0-45a8-da5c-c7f13cfa4e1f"
      },
      "execution_count": 7,
      "outputs": [
        {
          "output_type": "execute_result",
          "data": {
            "text/plain": [
              "(7507, 7507)"
            ]
          },
          "metadata": {},
          "execution_count": 7
        }
      ]
    },
    {
      "cell_type": "markdown",
      "source": [
        "Data Cleaning"
      ],
      "metadata": {
        "id": "SpWdZyadmih1"
      }
    },
    {
      "cell_type": "code",
      "source": [
        "#to lower case\n",
        "english_text_ = [x.lower() for x in english_text]\n",
        "marathi_text_ = [x.lower() for x in marathi_text]\n",
        "#removing inverted commas\n",
        "english_text_ = [re.sub(\"'\",'',x) for x in english_text_]\n",
        "marathi_text_ = [re.sub(\"'\",'',x) for x in marathi_text_]\n",
        "def remove_punc(text_list):\n",
        "  table = str.maketrans('', '', string.punctuation)\n",
        "  removed_punc_text = []\n",
        "  for sent in text_list:\n",
        "    sentance = [w.translate(table) for w in sent.split(' ')]\n",
        "    removed_punc_text.append(' '.join(sentance))\n",
        "  return removed_punc_text\n",
        "english_text_ = remove_punc(english_text_)\n",
        "marathi_text_ = remove_punc(marathi_text_)\n",
        "remove_digits = str.maketrans('', '', digits)\n",
        "removed_digits_text = []\n",
        "for sent in english_text_:\n",
        "  sentance = [w.translate(remove_digits) for w in sent.split(' ')]\n",
        "  removed_digits_text.append(' '.join(sentance))\n",
        "english_text_ = removed_digits_text\n",
        "# removing the digits from the marathi sentances\n",
        "marathi_text_ = [re.sub(\"[२३०८१५७९४६]\",\"\",x) for x in marathi_text_]\n",
        "marathi_text_ = [re.sub(\"[\\u200d]\",\"\",x) for x in marathi_text_]\n",
        "# removing the stating and ending whitespaces\n",
        "english_text_ = [x.strip() for x in english_text_]\n",
        "marathi_text_ = [x.strip() for x in marathi_text_]"
      ],
      "metadata": {
        "id": "PxmF1Sm1mlVV"
      },
      "execution_count": 8,
      "outputs": []
    },
    {
      "cell_type": "markdown",
      "source": [
        "Adding ‘start’ and ‘end’ tag to marathi sentence."
      ],
      "metadata": {
        "id": "CLAPm_1omvH3"
      }
    },
    {
      "cell_type": "code",
      "source": [
        "# Putting the start and end words in the marathi sentances\n",
        "marathi_text_ = [\"start \" + x + \" end\" for x in marathi_text_]\n",
        "# manipulated_marathi_text_\n",
        "marathi_text_[0], english_text_[0]"
      ],
      "metadata": {
        "colab": {
          "base_uri": "https://localhost:8080/"
        },
        "id": "43nlgS59myHN",
        "outputId": "8573265b-10cd-4376-8418-27cf5c321f15"
      },
      "execution_count": 9,
      "outputs": [
        {
          "output_type": "execute_result",
          "data": {
            "text/plain": [
              "('start जा end', 'go')"
            ]
          },
          "metadata": {},
          "execution_count": 9
        }
      ]
    },
    {
      "cell_type": "markdown",
      "source": [
        "# Data Preparation for Model Building"
      ],
      "metadata": {
        "id": "1TCoG3J6m3Eg"
      }
    },
    {
      "cell_type": "code",
      "source": [
        "X = english_text_\n",
        "Y = marathi_text_\n",
        "X_train, X_test, y_train, y_test=train_test_split(X,Y,test_size=0.1)"
      ],
      "metadata": {
        "id": "6cdffzl5m879"
      },
      "execution_count": 10,
      "outputs": []
    },
    {
      "cell_type": "markdown",
      "source": [
        "determine the maximum length of our sentences in both English and Marathi"
      ],
      "metadata": {
        "id": "iuT0n2ZNnCj-"
      }
    },
    {
      "cell_type": "code",
      "source": [
        "def Max_length(data):\n",
        "  max_length_ = max([len(x.split(' ')) for x in data])\n",
        "  return max_length_\n",
        "#Training data\n",
        "max_length_english = Max_length(X_train)\n",
        "max_length_marathi = Max_length(y_train)\n",
        "#Test data\n",
        "max_length_english_test = Max_length(X_test)\n",
        "max_length_marathi_test = Max_length(y_test)\n",
        "max_length_marathi, max_length_english"
      ],
      "metadata": {
        "colab": {
          "base_uri": "https://localhost:8080/"
        },
        "id": "2UkmM1SSnFq2",
        "outputId": "176c98b4-4dcf-429b-b2a2-38ad590a8ce5"
      },
      "execution_count": 11,
      "outputs": [
        {
          "output_type": "execute_result",
          "data": {
            "text/plain": [
              "(9, 5)"
            ]
          },
          "metadata": {},
          "execution_count": 11
        }
      ]
    },
    {
      "cell_type": "markdown",
      "source": [
        "# Tokenization"
      ],
      "metadata": {
        "id": "Imq17LhSnJZm"
      }
    },
    {
      "cell_type": "code",
      "source": [
        "# convert string input to a numerical list\n",
        "# using Tokenizer in the keras-preprocessing library.\n",
        "\"\"\"\n",
        "it is mandatory to have an equal length of all input sequences in sequence-to-sequence models.\n",
        "So, we will pad extra ‘0s’ to make the sequence of the same length. This would be done by pad_sequence\n",
        "\"\"\"\n",
        "\n",
        "englishTokenizer = Tokenizer()\n",
        "englishTokenizer.fit_on_texts(X_train)\n",
        "Eword2index = englishTokenizer.word_index\n",
        "vocab_size_source = len(Eword2index) + 1\n",
        "X_train = englishTokenizer.texts_to_sequences(X_train)\n",
        "X_train = pad_sequences(X_train, maxlen=max_length_english, padding='post')\n",
        "X_test = englishTokenizer.texts_to_sequences(X_test)\n",
        "X_test = pad_sequences(X_test, maxlen = max_length_english, padding='post')\n",
        "marathiTokenizer = Tokenizer()\n",
        "marathiTokenizer.fit_on_texts(y_train)\n",
        "Mword2index = marathiTokenizer.word_index\n",
        "vocab_size_target = len(Mword2index) + 1\n",
        "y_train = marathiTokenizer.texts_to_sequences(y_train)\n",
        "y_train = pad_sequences(y_train, maxlen=max_length_marathi, padding='post')\n",
        "y_test = marathiTokenizer.texts_to_sequences(y_test)\n",
        "y_test = pad_sequences(y_test, maxlen = max_length_marathi, padding='post')\n",
        "vocab_size_source, vocab_size_target"
      ],
      "metadata": {
        "colab": {
          "base_uri": "https://localhost:8080/"
        },
        "id": "KluLn8-0nNVm",
        "outputId": "3ccae89e-ad5a-43f7-82bd-185d46cab84d"
      },
      "execution_count": 12,
      "outputs": [
        {
          "output_type": "execute_result",
          "data": {
            "text/plain": [
              "(1565, 2916)"
            ]
          },
          "metadata": {},
          "execution_count": 12
        }
      ]
    },
    {
      "cell_type": "code",
      "source": [
        "X_train[0], y_train[0]"
      ],
      "metadata": {
        "colab": {
          "base_uri": "https://localhost:8080/"
        },
        "id": "pCtXPAzYn6W7",
        "outputId": "7036d630-876c-4072-cf90-2fc3c1660d4a"
      },
      "execution_count": 13,
      "outputs": [
        {
          "output_type": "execute_result",
          "data": {
            "text/plain": [
              "(array([ 19,   4, 190,   0,   0], dtype=int32),\n",
              " array([  1, 158,  25,   7,   2,   0,   0,   0,   0], dtype=int32))"
            ]
          },
          "metadata": {},
          "execution_count": 13
        }
      ]
    },
    {
      "cell_type": "markdown",
      "source": [
        "To save our preprocessing time whenever we reuse it again in future, we will save our important attributes"
      ],
      "metadata": {
        "id": "yFQ5kDXeoBVt"
      }
    },
    {
      "cell_type": "code",
      "source": [
        "with open('NMT_data.pkl','wb') as f:\n",
        "  pkl.dump([X_train, y_train, X_test, y_test],f)\n",
        "with open('NMT_Etokenizer.pkl','wb') as f:\n",
        "  pkl.dump([vocab_size_source, Eword2index, englishTokenizer], f)\n",
        "with open('NMT_Mtokenizer.pkl', 'wb') as f:\n",
        "  pkl.dump([vocab_size_target, Mword2index, marathiTokenizer], f)\n",
        "X_train = np.array(X_train)\n",
        "y_train = np.array(y_train)\n",
        "X_test = np.array(X_test)\n",
        "y_test = np.array(y_test)"
      ],
      "metadata": {
        "id": "grb0MJpeoDgN"
      },
      "execution_count": 14,
      "outputs": []
    },
    {
      "cell_type": "code",
      "source": [],
      "metadata": {
        "id": "9n5fRfq8pFzt"
      },
      "execution_count": null,
      "outputs": []
    },
    {
      "cell_type": "markdown",
      "source": [
        "Keras does not officially support attention layer. we can either implement our own attention layer or use a third-party implementation."
      ],
      "metadata": {
        "id": "vb_lwd9ooPDV"
      }
    },
    {
      "cell_type": "code",
      "source": [
        "import tensorflow as tf\n",
        "from tensorflow.python.keras import backend as K\n",
        "\n",
        "logger = tf.get_logger()\n",
        "\n",
        "class AttentionLayer(tf.keras.layers.Layer):\n",
        "    \"\"\"\n",
        "    This class implements Bahdanau attention (https://arxiv.org/pdf/1409.0473.pdf).\n",
        "    There are three sets of weights introduced W_a, U_a, and V_a\n",
        "     \"\"\"\n",
        "\n",
        "    def __init__(self, **kwargs):\n",
        "        super(AttentionLayer, self).__init__(**kwargs)\n",
        "\n",
        "    def build(self, input_shape):\n",
        "        assert isinstance(input_shape, list)\n",
        "        # Create a trainable weight variable for this layer.\n",
        "\n",
        "        self.W_a = self.add_weight(name='W_a',\n",
        "                                   shape=tf.TensorShape((input_shape[0][2], input_shape[0][2])),\n",
        "                                   initializer='uniform',\n",
        "                                   trainable=True)\n",
        "        self.U_a = self.add_weight(name='U_a',\n",
        "                                   shape=tf.TensorShape((input_shape[1][2], input_shape[0][2])),\n",
        "                                   initializer='uniform',\n",
        "                                   trainable=True)\n",
        "        self.V_a = self.add_weight(name='V_a',\n",
        "                                   shape=tf.TensorShape((input_shape[0][2], 1)),\n",
        "                                   initializer='uniform',\n",
        "                                   trainable=True)\n",
        "\n",
        "        super(AttentionLayer, self).build(input_shape)  # Be sure to call this at the end\n",
        "\n",
        "    def call(self, inputs):\n",
        "        \"\"\"\n",
        "        inputs: [encoder_output_sequence, decoder_output_sequence]\n",
        "        \"\"\"\n",
        "        assert type(inputs) == list\n",
        "        encoder_out_seq, decoder_out_seq = inputs\n",
        "\n",
        "        logger.debug(f\"encoder_out_seq.shape = {encoder_out_seq.shape}\")\n",
        "        logger.debug(f\"decoder_out_seq.shape = {decoder_out_seq.shape}\")\n",
        "\n",
        "        def energy_step(inputs, states):\n",
        "            \"\"\" Step function for computing energy for a single decoder state\n",
        "            inputs: (batchsize * 1 * de_in_dim)\n",
        "            states: (batchsize * 1 * de_latent_dim)\n",
        "            \"\"\"\n",
        "\n",
        "            logger.debug(\"Running energy computation step\")\n",
        "\n",
        "            if not isinstance(states, (list, tuple)):\n",
        "                raise TypeError(f\"States must be an iterable. Got {states} of type {type(states)}\")\n",
        "\n",
        "            encoder_full_seq = states[-1]\n",
        "\n",
        "            \"\"\" Computing S.Wa where S=[s0, s1, ..., si]\"\"\"\n",
        "            # <= batch size * en_seq_len * latent_dim\n",
        "            W_a_dot_s = K.dot(encoder_full_seq, self.W_a)\n",
        "\n",
        "            \"\"\" Computing hj.Ua \"\"\"\n",
        "            U_a_dot_h = K.expand_dims(K.dot(inputs, self.U_a), 1)  # <= batch_size, 1, latent_dim\n",
        "\n",
        "            logger.debug(f\"U_a_dot_h.shape = {U_a_dot_h.shape}\")\n",
        "\n",
        "            \"\"\" tanh(S.Wa + hj.Ua) \"\"\"\n",
        "            # <= batch_size*en_seq_len, latent_dim\n",
        "            Ws_plus_Uh = K.tanh(W_a_dot_s + U_a_dot_h)\n",
        "\n",
        "            logger.debug(f\"Ws_plus_Uh.shape = {Ws_plus_Uh.shape}\")\n",
        "\n",
        "            \"\"\" softmax(va.tanh(S.Wa + hj.Ua)) \"\"\"\n",
        "            # <= batch_size, en_seq_len\n",
        "            e_i = K.squeeze(K.dot(Ws_plus_Uh, self.V_a), axis=-1)\n",
        "            # <= batch_size, en_seq_len\n",
        "            e_i = K.softmax(e_i)\n",
        "\n",
        "            logger.debug(f\"ei.shape = {e_i.shape}\")\n",
        "\n",
        "            return e_i, [e_i]\n",
        "\n",
        "        def context_step(inputs, states):\n",
        "            \"\"\" Step function for computing ci using ei \"\"\"\n",
        "\n",
        "            logger.debug(\"Running attention vector computation step\")\n",
        "\n",
        "            if not isinstance(states, (list, tuple)):\n",
        "                raise TypeError(f\"States must be an iterable. Got {states} of type {type(states)}\")\n",
        "\n",
        "            encoder_full_seq = states[-1]\n",
        "\n",
        "            # <= batch_size, hidden_size\n",
        "            c_i = K.sum(encoder_full_seq * K.expand_dims(inputs, -1), axis=1)\n",
        "\n",
        "            logger.debug(f\"ci.shape = {c_i.shape}\")\n",
        "\n",
        "            return c_i, [c_i]\n",
        "\n",
        "        # we don't maintain states between steps when computing attention\n",
        "        # attention is stateless, so we're passing a fake state for RNN step function\n",
        "        fake_state_c = K.sum(encoder_out_seq, axis=1)\n",
        "        fake_state_e = K.sum(encoder_out_seq, axis=2)  # <= (batch_size, enc_seq_len, latent_dim\n",
        "\n",
        "        \"\"\" Computing energy outputs \"\"\"\n",
        "        # e_outputs => (batch_size, de_seq_len, en_seq_len)\n",
        "        last_out, e_outputs, _ = K.rnn(\n",
        "            energy_step, decoder_out_seq, [fake_state_e], constants=[encoder_out_seq]\n",
        "        )\n",
        "\n",
        "        \"\"\" Computing context vectors \"\"\"\n",
        "        last_out, c_outputs, _ = K.rnn(\n",
        "            context_step, e_outputs, [fake_state_c], constants=[encoder_out_seq]\n",
        "        )\n",
        "\n",
        "        return c_outputs, e_outputs\n",
        "\n",
        "    def compute_output_shape(self, input_shape):\n",
        "        \"\"\" Outputs produced by the layer \"\"\"\n",
        "        return [\n",
        "            tf.TensorShape((input_shape[1][0], input_shape[1][1], input_shape[1][2])),\n",
        "            tf.TensorShape((input_shape[1][0], input_shape[1][1], input_shape[0][1]))\n",
        "        ]"
      ],
      "metadata": {
        "id": "MPw2XNsopH01"
      },
      "execution_count": 15,
      "outputs": []
    },
    {
      "cell_type": "code",
      "source": [
        "!pip install pydot"
      ],
      "metadata": {
        "colab": {
          "base_uri": "https://localhost:8080/"
        },
        "id": "XzIZmCJKtEwx",
        "outputId": "078757e9-f9a0-4ff1-8b21-4d2207720096"
      },
      "execution_count": 18,
      "outputs": [
        {
          "output_type": "stream",
          "name": "stdout",
          "text": [
            "Collecting pydot\n",
            "  Downloading pydot-2.0.0-py3-none-any.whl (22 kB)\n",
            "Requirement already satisfied: pyparsing>=3 in /usr/local/lib/python3.10/dist-packages (from pydot) (3.1.2)\n",
            "Installing collected packages: pydot\n",
            "Successfully installed pydot-2.0.0\n"
          ]
        }
      ]
    },
    {
      "cell_type": "code",
      "source": [
        "!pip install graphviz"
      ],
      "metadata": {
        "colab": {
          "base_uri": "https://localhost:8080/"
        },
        "id": "CjpheDBVtlbb",
        "outputId": "58f7a965-dd8b-4392-b166-eb9ddeaa4ac7"
      },
      "execution_count": 21,
      "outputs": [
        {
          "output_type": "stream",
          "name": "stdout",
          "text": [
            "Collecting graphviz\n",
            "  Downloading graphviz-0.20.3-py3-none-any.whl (47 kB)\n",
            "\u001b[2K     \u001b[90m━━━━━━━━━━━━━━━━━━━━━━━━━━━━━━━━━━━━━━━━\u001b[0m \u001b[32m47.1/47.1 kB\u001b[0m \u001b[31m697.5 kB/s\u001b[0m eta \u001b[36m0:00:00\u001b[0m\n",
            "\u001b[?25hInstalling collected packages: graphviz\n",
            "Successfully installed graphviz-0.20.3\n"
          ]
        }
      ]
    },
    {
      "cell_type": "code",
      "source": [
        "import pydot\n",
        "import graphviz\n",
        "K.clear_session()\n",
        "latent_dim = 500\n",
        "# Encoder\n",
        "encoder_inputs = Input(shape=(max_length_english,))\n",
        "enc_emb = Embedding(vocab_size_source, latent_dim,trainable=True)(encoder_inputs)\n",
        "#LSTM 1\n",
        "encoder_lstm1 = LSTM(latent_dim,return_sequences=True,return_state=True)\n",
        "encoder_output1, state_h1, state_c1 = encoder_lstm1(enc_emb)\n",
        "#LSTM 2\n",
        "encoder_lstm2 = LSTM(latent_dim,return_sequences=True,return_state=True)\n",
        "encoder_output2, state_h2, state_c2 = encoder_lstm2(encoder_output1)\n",
        "#LSTM 3\n",
        "encoder_lstm3=LSTM(latent_dim, return_state=True, return_sequences=True)\n",
        "encoder_outputs, state_h, state_c= encoder_lstm3(encoder_output2)\n",
        "# Set up the decoder.\n",
        "decoder_inputs = Input(shape=(None,))\n",
        "dec_emb_layer = Embedding(vocab_size_target, latent_dim,trainable=True)\n",
        "dec_emb = dec_emb_layer(decoder_inputs)\n",
        "#LSTM using encoder_states as initial state\n",
        "decoder_lstm = LSTM(latent_dim, return_sequences=True, return_state=True)\n",
        "decoder_outputs,decoder_fwd_state, decoder_back_state = decoder_lstm(dec_emb,initial_state=[state_h, state_c])\n",
        "#Attention Layer\n",
        "attn_layer = AttentionLayer(name='attention_layer')\n",
        "attn_out, attn_states = attn_layer([encoder_outputs, decoder_outputs])\n",
        "# Concat attention output and decoder LSTM output\n",
        "decoder_concat_input = Concatenate(axis=-1, name='concat_layer')([decoder_outputs, attn_out])\n",
        "#Dense layer\n",
        "decoder_dense = TimeDistributed(Dense(vocab_size_target, activation='softmax'))\n",
        "decoder_outputs = decoder_dense(decoder_concat_input)\n",
        "# Define the model\n",
        "model = Model([encoder_inputs, decoder_inputs], decoder_outputs)\n",
        "plot_model(model, to_file='train_model.png', show_shapes=True)"
      ],
      "metadata": {
        "colab": {
          "base_uri": "https://localhost:8080/"
        },
        "id": "48TdljIzoP65",
        "outputId": "3cb0909b-3083-4f70-efe6-f111bed5493c"
      },
      "execution_count": 22,
      "outputs": [
        {
          "output_type": "stream",
          "name": "stdout",
          "text": [
            "You must install pydot (`pip install pydot`) and install graphviz (see instructions at https://graphviz.gitlab.io/download/) for plot_model to work.\n"
          ]
        }
      ]
    },
    {
      "cell_type": "code",
      "source": [
        "model.compile(optimizer='rmsprop',\n",
        "              loss='sparse_categorical_crossentropy',\n",
        "              metrics=['accuracy'])"
      ],
      "metadata": {
        "id": "y9k9GAZqpcJ_"
      },
      "execution_count": 23,
      "outputs": []
    },
    {
      "cell_type": "markdown",
      "source": [
        "# Model Training"
      ],
      "metadata": {
        "id": "S4R492yxpfj0"
      }
    },
    {
      "cell_type": "code",
      "source": [
        "es = EarlyStopping(monitor='val_loss', mode='min', verbose=1)"
      ],
      "metadata": {
        "id": "6ZqgFNbhpe6k"
      },
      "execution_count": 24,
      "outputs": []
    },
    {
      "cell_type": "code",
      "source": [
        "history = model.fit([X_train, y_train[:,:-1]], y_train.reshape(y_train.shape[0], y_train.shape[1],1)[:,1:],\n",
        "                    epochs=50,\n",
        "                    callbacks=[es],\n",
        "                    batch_size=512,\n",
        "                    validation_data = ([X_test, y_test[:,:-1]], y_test.reshape(y_test.shape[0], y_test.shape[1], 1)[:,1:]))"
      ],
      "metadata": {
        "colab": {
          "base_uri": "https://localhost:8080/"
        },
        "id": "xpAbXzP1pmp0",
        "outputId": "cb18ac7b-76aa-4c94-f094-ce3adeff68d3"
      },
      "execution_count": 25,
      "outputs": [
        {
          "output_type": "stream",
          "name": "stdout",
          "text": [
            "Epoch 1/50\n",
            "14/14 [==============================] - 16s 622ms/step - loss: 6.0327 - accuracy: 0.4404 - val_loss: 3.1665 - val_accuracy: 0.5005\n",
            "Epoch 2/50\n",
            "14/14 [==============================] - 7s 492ms/step - loss: 3.1779 - accuracy: 0.4930 - val_loss: 2.8718 - val_accuracy: 0.5604\n",
            "Epoch 3/50\n",
            "14/14 [==============================] - 7s 497ms/step - loss: 2.9536 - accuracy: 0.5361 - val_loss: 2.6961 - val_accuracy: 0.5604\n",
            "Epoch 4/50\n",
            "14/14 [==============================] - 7s 496ms/step - loss: 2.8112 - accuracy: 0.5433 - val_loss: 2.6314 - val_accuracy: 0.5694\n",
            "Epoch 5/50\n",
            "14/14 [==============================] - 7s 494ms/step - loss: 2.7301 - accuracy: 0.5481 - val_loss: 2.5644 - val_accuracy: 0.5871\n",
            "Epoch 6/50\n",
            "14/14 [==============================] - 7s 486ms/step - loss: 2.6627 - accuracy: 0.5580 - val_loss: 2.5201 - val_accuracy: 0.5887\n",
            "Epoch 7/50\n",
            "14/14 [==============================] - 7s 497ms/step - loss: 2.5900 - accuracy: 0.5858 - val_loss: 2.4509 - val_accuracy: 0.6027\n",
            "Epoch 8/50\n",
            "14/14 [==============================] - 7s 493ms/step - loss: 2.4987 - accuracy: 0.6078 - val_loss: 2.3637 - val_accuracy: 0.6337\n",
            "Epoch 9/50\n",
            "14/14 [==============================] - 7s 497ms/step - loss: 2.4561 - accuracy: 0.6192 - val_loss: 2.3489 - val_accuracy: 0.6372\n",
            "Epoch 10/50\n",
            "14/14 [==============================] - 7s 491ms/step - loss: 2.4200 - accuracy: 0.6241 - val_loss: 2.3231 - val_accuracy: 0.6348\n",
            "Epoch 11/50\n",
            "14/14 [==============================] - 7s 492ms/step - loss: 2.3949 - accuracy: 0.6248 - val_loss: 2.3035 - val_accuracy: 0.6357\n",
            "Epoch 12/50\n",
            "14/14 [==============================] - 7s 492ms/step - loss: 2.3826 - accuracy: 0.6264 - val_loss: 2.2690 - val_accuracy: 0.6368\n",
            "Epoch 13/50\n",
            "14/14 [==============================] - 7s 498ms/step - loss: 2.3608 - accuracy: 0.6264 - val_loss: 2.2465 - val_accuracy: 0.6420\n",
            "Epoch 14/50\n",
            "14/14 [==============================] - 7s 493ms/step - loss: 2.3526 - accuracy: 0.6283 - val_loss: 2.2431 - val_accuracy: 0.6383\n",
            "Epoch 15/50\n",
            "14/14 [==============================] - 7s 497ms/step - loss: 2.3301 - accuracy: 0.6301 - val_loss: 2.2767 - val_accuracy: 0.6352\n",
            "Epoch 15: early stopping\n"
          ]
        }
      ]
    },
    {
      "cell_type": "code",
      "source": [
        "from matplotlib import pyplot\n",
        "pyplot.plot(history.history['loss'], label='train')\n",
        "pyplot.plot(history.history['val_loss'], label='test')\n",
        "pyplot.legend()\n",
        "pyplot.show()"
      ],
      "metadata": {
        "colab": {
          "base_uri": "https://localhost:8080/",
          "height": 430
        },
        "id": "_TX3WIT5uYw7",
        "outputId": "9d27fa6c-1380-4c1e-b398-9363d0c92545"
      },
      "execution_count": 26,
      "outputs": [
        {
          "output_type": "display_data",
          "data": {
            "text/plain": [
              "<Figure size 640x480 with 1 Axes>"
            ],
            "image/png": "[encoded data removed]"
          },
          "metadata": {}
        }
      ]
    },
    {
      "cell_type": "markdown",
      "source": [
        "Model Saving and Loading.\n",
        "save the trained model with proper weights."
      ],
      "metadata": {
        "id": "w-Lrgwruulmc"
      }
    },
    {
      "cell_type": "code",
      "source": [
        "model_json = model.to_json()\n",
        "with open(\"NMT_model.json\", \"w\") as json_file:\n",
        "    json_file.write(model_json)\n",
        "# serialize weights to HDF5\n",
        "model.save_weights(\"NMT_model_weight.h5\")\n",
        "print(\"Saved model to disk\")"
      ],
      "metadata": {
        "colab": {
          "base_uri": "https://localhost:8080/"
        },
        "id": "9_dKMEE0ukQl",
        "outputId": "47f9585a-d03c-41ec-8e62-d76c7b9378c5"
      },
      "execution_count": 27,
      "outputs": [
        {
          "output_type": "stream",
          "name": "stdout",
          "text": [
            "Saved model to disk\n"
          ]
        }
      ]
    },
    {
      "cell_type": "markdown",
      "source": [
        "Load model"
      ],
      "metadata": {
        "id": "7WKmIZfKuy31"
      }
    },
    {
      "cell_type": "code",
      "source": [
        "# loading the model architecture and asigning the weights\n",
        "json_file = open('NMT_model.json', 'r')\n",
        "loaded_model_json = json_file.read()\n",
        "json_file.close()\n",
        "model_loaded = model_from_json(loaded_model_json, custom_objects={'AttentionLayer': AttentionLayer})\n",
        "# load weights into new model\n",
        "model_loaded.load_weights(\"NMT_model_weight.h5\")"
      ],
      "metadata": {
        "id": "KOlz9jQXu0oE"
      },
      "execution_count": 28,
      "outputs": []
    },
    {
      "cell_type": "markdown",
      "source": [
        "Inference Model.\n",
        "=> to predict our output sequences by considering weights from a pre-trained model."
      ],
      "metadata": {
        "id": "jT0UAgaDu3pl"
      }
    },
    {
      "cell_type": "code",
      "source": [
        "latent_dim=500\n",
        "# encoder inference\n",
        "encoder_inputs = model_loaded.input[0]  #loading encoder_inputs\n",
        "encoder_outputs, state_h, state_c = model_loaded.layers[6].output #loading encoder_outputs\n",
        "#print(encoder_outputs.shape)\n",
        "encoder_model = Model(inputs=encoder_inputs,outputs=[encoder_outputs, state_h, state_c])\n",
        "# decoder inference\n",
        "# Below tensors will hold the states of the previous time step\n",
        "decoder_state_input_h = Input(shape=(latent_dim,))\n",
        "decoder_state_input_c = Input(shape=(latent_dim,))\n",
        "decoder_hidden_state_input = Input(shape=(32,latent_dim))\n",
        "# Get the embeddings of the decoder sequence\n",
        "decoder_inputs = model_loaded.layers[3].output\n",
        "#print(decoder_inputs.shape)\n",
        "dec_emb_layer = model_loaded.layers[5]\n",
        "dec_emb2= dec_emb_layer(decoder_inputs)\n",
        "# To predict the next word in the sequence, set the initial states to the states from the previous time step\n",
        "decoder_lstm = model_loaded.layers[7]\n",
        "decoder_outputs2, state_h2, state_c2 = decoder_lstm(dec_emb2, initial_state=[decoder_state_input_h, decoder_state_input_c])\n",
        "#attention inference\n",
        "attn_layer = model_loaded.layers[8]\n",
        "attn_out_inf, attn_states_inf = attn_layer([decoder_hidden_state_input, decoder_outputs2])\n",
        "concate = model_loaded.layers[9]\n",
        "decoder_inf_concat = concate([decoder_outputs2, attn_out_inf])\n",
        "# A dense softmax layer to generate prob dist. over the target vocabulary\n",
        "decoder_dense = model_loaded.layers[10]\n",
        "decoder_outputs2 = decoder_dense(decoder_inf_concat)\n",
        "# Final decoder model\n",
        "decoder_model = Model(\n",
        "[decoder_inputs] + [decoder_hidden_state_input,decoder_state_input_h, decoder_state_input_c],\n",
        "[decoder_outputs2] + [state_h2, state_c2])"
      ],
      "metadata": {
        "id": "Y3ygpflau6bt"
      },
      "execution_count": 29,
      "outputs": []
    },
    {
      "cell_type": "markdown",
      "source": [
        "# Predcitions"
      ],
      "metadata": {
        "id": "cGHeOA-4vMfW"
      }
    },
    {
      "cell_type": "code",
      "source": [
        "def decode_sequence(input_seq):\n",
        "    # Encode the input as state vectors.\n",
        "    e_out, e_h, e_c = encoder_model.predict(input_seq)\n",
        "\n",
        "    # Generate empty target sequence of length 1.\n",
        "    target_seq = np.zeros((1, 1))\n",
        "\n",
        "    # Chose the 'start' word as the first word of the target sequence\n",
        "    target_seq[0, 0] = Mword2index['start']\n",
        "\n",
        "    stop_condition = False\n",
        "    decoded_sentence = ''\n",
        "\n",
        "    while not stop_condition:\n",
        "        output_tokens, h, c = decoder_model.predict([target_seq] + [e_out, e_h, e_c])\n",
        "\n",
        "        # Sample a token\n",
        "        sampled_token_index = np.argmax(output_tokens[0, -1, :])\n",
        "        if sampled_token_index == 0:\n",
        "            break\n",
        "        else:\n",
        "            sampled_token = Mindex2word[sampled_token_index]\n",
        "            if sampled_token != 'end':\n",
        "                decoded_sentence += ' ' + sampled_token\n",
        "\n",
        "            # Exit condition: either hit max length or find stop word.\n",
        "            if sampled_token == 'end' or len(decoded_sentence.split()) >= (26 - 1):\n",
        "                stop_condition = True\n",
        "\n",
        "            # Update the target sequence (of length 1).\n",
        "            target_seq = np.zeros((1, 1))\n",
        "            target_seq[0, 0] = sampled_token_index\n",
        "\n",
        "            # Update internal states\n",
        "            e_h, e_c = h, c\n",
        "\n",
        "    return decoded_sentence\n"
      ],
      "metadata": {
        "id": "sCcKH0rwvPRA"
      },
      "execution_count": 53,
      "outputs": []
    },
    {
      "cell_type": "markdown",
      "source": [
        "Forming a reverse vocabulary"
      ],
      "metadata": {
        "id": "gxNpkgl5vnQx"
      }
    },
    {
      "cell_type": "code",
      "source": [
        "Eindex2word = englishTokenizer.index_word\n",
        "Mindex2word = marathiTokenizer.index_word"
      ],
      "metadata": {
        "id": "iXlaI2yUvpo1"
      },
      "execution_count": 33,
      "outputs": []
    },
    {
      "cell_type": "markdown",
      "source": [
        "Some transformation before giving a string to the function"
      ],
      "metadata": {
        "id": "gClh5V5EvtrV"
      }
    },
    {
      "cell_type": "code",
      "source": [
        "def seq2summary(input_seq):\n",
        "    newString=''\n",
        "    for i in input_seq:\n",
        "      if((i!=0 and i!=Mword2index['start']) and i!=Mword2index['end']):\n",
        "        newString=newString+Mindex2word[i]+' '\n",
        "    return newString\n",
        "def seq2text(input_seq):\n",
        "    newString=''\n",
        "    for i in input_seq:\n",
        "      if(i!=0):\n",
        "        newString=newString+Eindex2word[i]+' '\n",
        "    return newString"
      ],
      "metadata": {
        "id": "iOJ8-WLWvuWc"
      },
      "execution_count": 34,
      "outputs": []
    },
    {
      "cell_type": "markdown",
      "source": [
        "Call the necessary functions to test the translation model"
      ],
      "metadata": {
        "id": "99727GpHvzor"
      }
    },
    {
      "cell_type": "code",
      "source": [
        "# Encoder\n",
        "encoder_inputs = Input(shape=(max_length_english,))\n",
        "\n",
        "# Decoder\n",
        "decoder_inputs = Input(shape=(None,))\n",
        "print(encoder_inputs)\n",
        "print(decoder_inputs)"
      ],
      "metadata": {
        "colab": {
          "base_uri": "https://localhost:8080/"
        },
        "id": "bPCmwjjdzFWl",
        "outputId": "b7e4c86a-8a44-48b6-d82a-0ca7296da47c"
      },
      "execution_count": 39,
      "outputs": [
        {
          "output_type": "stream",
          "name": "stdout",
          "text": [
            "KerasTensor(type_spec=TensorSpec(shape=(None, 5), dtype=tf.float32, name='input_14'), name='input_14', description=\"created by layer 'input_14'\")\n",
            "KerasTensor(type_spec=TensorSpec(shape=(None, None), dtype=tf.float32, name='input_15'), name='input_15', description=\"created by layer 'input_15'\")\n"
          ]
        }
      ]
    },
    {
      "cell_type": "code",
      "source": [
        "print(model.summary())"
      ],
      "metadata": {
        "colab": {
          "base_uri": "https://localhost:8080/"
        },
        "id": "wtLIJmynzeV8",
        "outputId": "62e3780b-436e-4830-befe-fde2c2e53abd"
      },
      "execution_count": 40,
      "outputs": [
        {
          "output_type": "stream",
          "name": "stdout",
          "text": [
            "Model: \"model\"\n",
            "__________________________________________________________________________________________________\n",
            " Layer (type)                Output Shape                 Param #   Connected to                  \n",
            "==================================================================================================\n",
            " input_5 (InputLayer)        [(None, 5)]                  0         []                            \n",
            "                                                                                                  \n",
            " embedding (Embedding)       (None, 5, 500)               782500    ['input_5[0][0]']             \n",
            "                                                                                                  \n",
            " lstm (LSTM)                 [(None, 5, 500),             2002000   ['embedding[0][0]']           \n",
            "                              (None, 500),                                                        \n",
            "                              (None, 500)]                                                        \n",
            "                                                                                                  \n",
            " input_6 (InputLayer)        [(None, None)]               0         []                            \n",
            "                                                                                                  \n",
            " lstm_1 (LSTM)               [(None, 5, 500),             2002000   ['lstm[0][0]']                \n",
            "                              (None, 500),                                                        \n",
            "                              (None, 500)]                                                        \n",
            "                                                                                                  \n",
            " embedding_1 (Embedding)     (None, None, 500)            1458000   ['input_6[0][0]']             \n",
            "                                                                                                  \n",
            " lstm_2 (LSTM)               [(None, 5, 500),             2002000   ['lstm_1[0][0]']              \n",
            "                              (None, 500),                                                        \n",
            "                              (None, 500)]                                                        \n",
            "                                                                                                  \n",
            " lstm_3 (LSTM)               [(None, None, 500),          2002000   ['embedding_1[0][0]',         \n",
            "                              (None, 500),                           'lstm_2[0][1]',              \n",
            "                              (None, 500)]                           'lstm_2[0][2]']              \n",
            "                                                                                                  \n",
            " attention_layer (Attention  ((None, None, 500),          500500    ['lstm_2[0][0]',              \n",
            " Layer)                       (None, None, 5))                       'lstm_3[0][0]']              \n",
            "                                                                                                  \n",
            " concat_layer (Concatenate)  (None, None, 1000)           0         ['lstm_3[0][0]',              \n",
            "                                                                     'attention_layer[0][0]']     \n",
            "                                                                                                  \n",
            " time_distributed (TimeDist  (None, None, 2916)           2918916   ['concat_layer[0][0]']        \n",
            " ributed)                                                                                         \n",
            "                                                                                                  \n",
            "==================================================================================================\n",
            "Total params: 13667916 (52.14 MB)\n",
            "Trainable params: 13667916 (52.14 MB)\n",
            "Non-trainable params: 0 (0.00 Byte)\n",
            "__________________________________________________________________________________________________\n",
            "None\n"
          ]
        }
      ]
    },
    {
      "cell_type": "code",
      "source": [
        "# Define the maximum length expected by the model\n",
        "max_length_english = 32  # Update this if your model expects a different length\n",
        "max_length_marathi = 32  # Update this if your model expects a different length\n",
        "\n",
        "# Padding training and test data\n",
        "# X_train_padded = pad_sequences(X_train, maxlen=max_length_english, padding='post')\n",
        "X_test_padded = pad_sequences(X_test, maxlen=max_length_english, padding='post')\n",
        "y_train_padded = pad_sequences(y_train, maxlen=max_length_marathi, padding='post')\n",
        "y_test_padded = pad_sequences(y_test, maxlen=max_length_marathi, padding='post')\n",
        "\n",
        "# Adjust the loop for the test data\n",
        "for i in range(10):\n",
        "    print(\"Review:\", seq2text(X_test_padded[i]))\n",
        "    print(\"Original summary:\", seq2summary(y_test[i]))\n",
        "    print(\"Predicted summary:\", decode_sequence(X_test_padded[i].reshape(1, max_length_english)))\n",
        "    print(\"\\n\")\n",
        "\n",
        "# max_length = 32\n",
        "# X_test_padded = pad_sequences(X_test, maxlen = max_length, padding='post')\n",
        "# for i in range(10):\n",
        "#   print(\"Review:\",seq2text(X_test_padded[i]))\n",
        "#   print(\"Original summary:\",seq2summary(y_test[i]))\n",
        "#   print(\"Predicted summary:\",decode_sequence(X_test_padded[i].reshape(1,max_length)))\n",
        "#   print(\"\\n\")"
      ],
      "metadata": {
        "colab": {
          "base_uri": "https://localhost:8080/"
        },
        "collapsed": true,
        "id": "wCz3qsyxv3sk",
        "outputId": "a6097d4c-4f1f-411d-c38a-8e0d61bfcea4"
      },
      "execution_count": 55,
      "outputs": [
        {
          "output_type": "stream",
          "name": "stdout",
          "text": [
            "Review: i read your book \n",
            "Original summary: मी तुमचं पुस्तक वाचलं \n",
            "1/1 [==============================] - 0s 44ms/step\n",
            "1/1 [==============================] - 0s 31ms/step\n",
            "1/1 [==============================] - 0s 30ms/step\n",
            "1/1 [==============================] - 0s 30ms/step\n",
            "1/1 [==============================] - 0s 29ms/step\n",
            "1/1 [==============================] - 0s 28ms/step\n",
            "1/1 [==============================] - 0s 28ms/step\n",
            "1/1 [==============================] - 0s 28ms/step\n",
            "Predicted summary:  मी मी मी मला मला आहे\n",
            "\n",
            "\n",
            "Review: the food is cold \n",
            "Original summary: ते खाणं थंड आहे \n",
            "1/1 [==============================] - 0s 42ms/step\n",
            "1/1 [==============================] - 0s 30ms/step\n",
            "1/1 [==============================] - 0s 29ms/step\n",
            "1/1 [==============================] - 0s 28ms/step\n",
            "1/1 [==============================] - 0s 29ms/step\n",
            "1/1 [==============================] - 0s 28ms/step\n",
            "1/1 [==============================] - 0s 29ms/step\n",
            "1/1 [==============================] - 0s 28ms/step\n",
            "1/1 [==============================] - 0s 29ms/step\n",
            "1/1 [==============================] - 0s 29ms/step\n",
            "1/1 [==============================] - 0s 30ms/step\n",
            "1/1 [==============================] - 0s 28ms/step\n",
            "1/1 [==============================] - 0s 28ms/step\n",
            "1/1 [==============================] - 0s 28ms/step\n",
            "1/1 [==============================] - 0s 28ms/step\n",
            "1/1 [==============================] - 0s 28ms/step\n",
            "1/1 [==============================] - 0s 29ms/step\n",
            "1/1 [==============================] - 0s 29ms/step\n",
            "1/1 [==============================] - 0s 29ms/step\n",
            "1/1 [==============================] - 0s 29ms/step\n",
            "1/1 [==============================] - 0s 29ms/step\n",
            "1/1 [==============================] - 0s 29ms/step\n",
            "1/1 [==============================] - 0s 28ms/step\n",
            "1/1 [==============================] - 0s 28ms/step\n",
            "1/1 [==============================] - 0s 27ms/step\n",
            "1/1 [==============================] - 0s 29ms/step\n",
            "Predicted summary:  थांबलं मी मी मी मी मी मी मी मी मी मी मी मी मी मी मी मी मी मी मी मी मी मी मी मी\n",
            "\n",
            "\n",
            "Review: i have a dog \n",
            "Original summary: माझ्याकडे कुत्रा आहे \n",
            "1/1 [==============================] - 0s 42ms/step\n",
            "1/1 [==============================] - 0s 30ms/step\n",
            "1/1 [==============================] - 0s 29ms/step\n",
            "1/1 [==============================] - 0s 29ms/step\n",
            "1/1 [==============================] - 0s 32ms/step\n",
            "1/1 [==============================] - 0s 29ms/step\n",
            "1/1 [==============================] - 0s 29ms/step\n",
            "1/1 [==============================] - 0s 29ms/step\n",
            "Predicted summary:  मी मी मी मला मला आहे\n",
            "\n",
            "\n",
            "Review: copy this file \n",
            "Original summary: ही फाइल कॉपी करा \n",
            "1/1 [==============================] - 0s 41ms/step\n",
            "1/1 [==============================] - 0s 30ms/step\n",
            "1/1 [==============================] - 0s 30ms/step\n",
            "1/1 [==============================] - 0s 29ms/step\n",
            "1/1 [==============================] - 0s 30ms/step\n",
            "1/1 [==============================] - 0s 29ms/step\n",
            "1/1 [==============================] - 0s 30ms/step\n",
            "1/1 [==============================] - 0s 29ms/step\n",
            "Predicted summary:  मी मी मी मला मला आहे\n",
            "\n",
            "\n",
            "Review: this is my book \n",
            "Original summary: हे माझं पुस्तक आहे \n",
            "1/1 [==============================] - 0s 43ms/step\n",
            "1/1 [==============================] - 0s 32ms/step\n",
            "1/1 [==============================] - 0s 30ms/step\n",
            "1/1 [==============================] - 0s 29ms/step\n",
            "1/1 [==============================] - 0s 28ms/step\n",
            "1/1 [==============================] - 0s 28ms/step\n",
            "1/1 [==============================] - 0s 29ms/step\n",
            "1/1 [==============================] - 0s 29ms/step\n",
            "Predicted summary:  मी मी मी मला मला आहे\n",
            "\n",
            "\n",
            "Review: how is it \n",
            "Original summary: कसं आहे \n",
            "1/1 [==============================] - 0s 40ms/step\n",
            "1/1 [==============================] - 0s 30ms/step\n",
            "1/1 [==============================] - 0s 29ms/step\n",
            "1/1 [==============================] - 0s 28ms/step\n",
            "1/1 [==============================] - 0s 28ms/step\n",
            "1/1 [==============================] - 0s 28ms/step\n",
            "1/1 [==============================] - 0s 28ms/step\n",
            "1/1 [==============================] - 0s 29ms/step\n",
            "1/1 [==============================] - 0s 28ms/step\n",
            "1/1 [==============================] - 0s 28ms/step\n",
            "1/1 [==============================] - 0s 29ms/step\n",
            "1/1 [==============================] - 0s 28ms/step\n",
            "1/1 [==============================] - 0s 29ms/step\n",
            "1/1 [==============================] - 0s 29ms/step\n",
            "1/1 [==============================] - 0s 29ms/step\n",
            "1/1 [==============================] - 0s 29ms/step\n",
            "1/1 [==============================] - 0s 31ms/step\n",
            "1/1 [==============================] - 0s 29ms/step\n",
            "1/1 [==============================] - 0s 31ms/step\n",
            "1/1 [==============================] - 0s 30ms/step\n",
            "1/1 [==============================] - 0s 29ms/step\n",
            "1/1 [==============================] - 0s 29ms/step\n",
            "1/1 [==============================] - 0s 29ms/step\n",
            "1/1 [==============================] - 0s 30ms/step\n",
            "1/1 [==============================] - 0s 30ms/step\n",
            "1/1 [==============================] - 0s 30ms/step\n",
            "Predicted summary:  थांबलं थांबलं जराशी जराशी जराशी जराशी जराशी जराशी जराशी जराशी जराशी जराशी जराशी जराशी जराशी जराशी जराशी जराशी जराशी जराशी जराशी जराशी जराशी जराशी जराशी\n",
            "\n",
            "\n",
            "Review: were you crying \n",
            "Original summary: तू रडत होतास का \n",
            "1/1 [==============================] - 0s 41ms/step\n",
            "1/1 [==============================] - 0s 30ms/step\n",
            "1/1 [==============================] - 0s 28ms/step\n",
            "1/1 [==============================] - 0s 28ms/step\n",
            "1/1 [==============================] - 0s 28ms/step\n",
            "1/1 [==============================] - 0s 28ms/step\n",
            "1/1 [==============================] - 0s 30ms/step\n",
            "1/1 [==============================] - 0s 28ms/step\n",
            "Predicted summary:  मी मी मी मला मला आहे\n",
            "\n",
            "\n",
            "Review: i my breath \n",
            "Original summary: मी माझा श्वास \n",
            "1/1 [==============================] - 0s 41ms/step\n",
            "1/1 [==============================] - 0s 30ms/step\n",
            "1/1 [==============================] - 0s 29ms/step\n",
            "1/1 [==============================] - 0s 28ms/step\n",
            "1/1 [==============================] - 0s 28ms/step\n",
            "1/1 [==============================] - 0s 29ms/step\n",
            "1/1 [==============================] - 0s 29ms/step\n",
            "1/1 [==============================] - 0s 31ms/step\n",
            "Predicted summary:  मी मी मी मला मला आहे\n",
            "\n",
            "\n",
            "Review: a dog is \n",
            "Original summary: कुत्रा आहे \n",
            "1/1 [==============================] - 0s 43ms/step\n",
            "1/1 [==============================] - 0s 30ms/step\n",
            "1/1 [==============================] - 0s 28ms/step\n",
            "1/1 [==============================] - 0s 30ms/step\n",
            "1/1 [==============================] - 0s 28ms/step\n",
            "1/1 [==============================] - 0s 30ms/step\n",
            "1/1 [==============================] - 0s 29ms/step\n",
            "1/1 [==============================] - 0s 30ms/step\n",
            "Predicted summary:  मी मी मी मला मला आहे\n",
            "\n",
            "\n",
            "Review: there is more \n",
            "Original summary: आजून आहे \n",
            "1/1 [==============================] - 0s 42ms/step\n",
            "1/1 [==============================] - 0s 31ms/step\n",
            "1/1 [==============================] - 0s 30ms/step\n",
            "1/1 [==============================] - 0s 29ms/step\n",
            "1/1 [==============================] - 0s 29ms/step\n",
            "1/1 [==============================] - 0s 30ms/step\n",
            "1/1 [==============================] - 0s 30ms/step\n",
            "Predicted summary:  मी मी मी मला आहे\n",
            "\n",
            "\n"
          ]
        }
      ]
    }
  ]
}